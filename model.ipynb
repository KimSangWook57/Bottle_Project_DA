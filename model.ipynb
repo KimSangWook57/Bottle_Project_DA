{
 "cells": [
  {
   "cell_type": "code",
   "execution_count": 3,
   "metadata": {},
   "outputs": [
    {
     "name": "stdout",
     "output_type": "stream",
     "text": [
      "CUDA 사용 불가\n"
     ]
    },
    {
     "data": {
      "text/plain": [
       "<torch._C.Generator at 0x1a4ffc15bf0>"
      ]
     },
     "execution_count": 3,
     "metadata": {},
     "output_type": "execute_result"
    }
   ],
   "source": [
    "# 패키지 다운로드\n",
    "import torch\n",
    "import torch.nn as nn\n",
    "import torch.optim as optim\n",
    "from torch.utils.data import DataLoader\n",
    "import torchvision.transforms as transforms\n",
    "import torchvision.datasets as datasets\n",
    "\n",
    "# CUDA 지원 활성화\n",
    "if torch.cuda.is_available():\n",
    "    device = torch.device(\"cuda\")\n",
    "    print(\"CUDA 사용 가능\")\n",
    "else:\n",
    "    device = torch.device(\"cpu\")\n",
    "    print(\"CUDA 사용 불가\")\n",
    "\n",
    "# 시드 고정\n",
    "seed = 42\n",
    "torch.manual_seed(seed)\n"
   ]
  },
  {
   "cell_type": "code",
   "execution_count": 3,
   "metadata": {},
   "outputs": [],
   "source": [
    "# 이미지 라벨 생성\n",
    "def get_label_from_foldername(foldername):\n",
    "    # 폴더 이름이 문자열인 경우에만 처리\n",
    "    if isinstance(foldername, str):\n",
    "        # 각 폴더의 이름에 따라 라벨을 할당\n",
    "        if foldername == \"preprocessed_brown_glass\":\n",
    "            return 0\n",
    "        elif foldername == \"preprocessed_brown_glass_packaging\":\n",
    "            return 1\n",
    "        elif foldername == \"preprocessed_clear_glass\":\n",
    "            return 2\n",
    "        elif foldername == \"preprocessed_clear_glass_packaging\":\n",
    "            return 3\n",
    "        elif foldername == \"preprocessed_green_glass\":\n",
    "            return 4\n",
    "        elif foldername == \"preprocessed_green_glass_packaging\":\n",
    "            return 5\n",
    "        elif foldername == \"preprocessed_reused_glass\":\n",
    "            return 6\n",
    "        elif foldername == \"preprocessed_reused_glass_packaging\":\n",
    "            return 7\n",
    "        elif foldername == \"preprocessed_unclassified_glass\":\n",
    "            return 8\n",
    "        else:\n",
    "            raise ValueError(f\"Invalid folder name: {foldername}\")\n"
   ]
  },
  {
   "cell_type": "code",
   "execution_count": null,
   "metadata": {},
   "outputs": [],
   "source": [
    "# 데이터셋 경로\n",
    "dataset_path = \"preprocessed_image\"\n",
    "\n",
    "# 데이터셋 불러오기\n",
    "dataset = datasets.ImageFolder(\n",
    "    dataset_path,\n",
    "    transform=transforms.Compose([\n",
    "        transforms.ToTensor(),\n",
    "    ]),\n",
    "    target_transform=get_label_from_foldername\n",
    ")\n",
    "\n",
    "# 데이터로더 생성\n",
    "batch_size = 32\n",
    "dataloader = DataLoader(dataset, batch_size=batch_size, shuffle=True)"
   ]
  },
  {
   "cell_type": "code",
   "execution_count": 5,
   "metadata": {},
   "outputs": [],
   "source": [
    "# 모델 레이어 생성\n",
    "class Model(nn.Module):\n",
    "    def __init__(self):\n",
    "        super(Model, self).__init__()\n",
    "        self.conv1 = nn.Conv2d(3, 32, kernel_size=3)\n",
    "        self.pool = nn.MaxPool2d(2, 2)\n",
    "        self.flatten = nn.Flatten()\n",
    "        self.fc1 = nn.Linear(32 * 111 * 111, 64)\n",
    "        self.fc2 = nn.Linear(64, 9)  # 클래스 수에 맞게 계속 수정\n",
    "        \n",
    "    def forward(self, x):\n",
    "        x = self.pool(nn.functional.relu(self.conv1(x)))\n",
    "        x = self.flatten(x)\n",
    "        x = nn.functional.relu(self.fc1(x))\n",
    "        x = torch.sigmoid(self.fc2(x))\n",
    "        return x.to(device)\n",
    "\n",
    "# 모델 인스턴스 생성 및 CUDA 장치로 이동\n",
    "model = Model().to(device)"
   ]
  },
  {
   "cell_type": "code",
   "execution_count": null,
   "metadata": {},
   "outputs": [],
   "source": [
    "# 모델 학습시키기\n",
    "# 손실 함수와 최적화 알고리즘 설정\n",
    "criterion = nn.CrossEntropyLoss().to(device)  # 손실 함수 수정\n",
    "optimizer = optim.Adam(model.parameters(), lr=0.001)\n",
    "\n",
    "# 학습 반복\n",
    "epochs = 10\n",
    "best_accuracy = 0.0  # 가장 좋은 정확도를 저장할 변수 초기화\n",
    "best_model_path = \"best_model.pt\"  # 가장 좋은 모델의 저장 경로\n",
    "\n",
    "for epoch in range(epochs):\n",
    "    running_loss = 0.0\n",
    "    for images, labels in dataloader:\n",
    "        # 이미지와 라벨을 CUDA 장치로 이동\n",
    "        images = images.to(device)\n",
    "        labels = labels.to(device)\n",
    "        # 그래디언트 초기화\n",
    "        optimizer.zero_grad()\n",
    "        # 모델에 이미지 전달하여 예측 수행\n",
    "        outputs = model(images)\n",
    "        # 손실 계산\n",
    "        loss = criterion(outputs, labels)\n",
    "        # 역전파 및 가중치 업데이트\n",
    "        loss.backward()\n",
    "        optimizer.step()\n",
    "        running_loss += loss.item()\n",
    "    print(f\"Epoch {epoch+1} - Loss: {running_loss / len(dataloader)}\")"
   ]
  },
  {
   "cell_type": "code",
   "execution_count": null,
   "metadata": {},
   "outputs": [],
   "source": [
    "# 테스트 데이터셋을 통한 모델 평가\n",
    "test_dataset_path = \"preprocessed_test_image\"\n",
    "test_dataset = datasets.ImageFolder(\n",
    "    test_dataset_path,\n",
    "    transform=transforms.Compose([\n",
    "        transforms.ToTensor(),\n",
    "    ])\n",
    ")\n",
    "test_dataloader = DataLoader(test_dataset, batch_size=batch_size)\n",
    "\n",
    "with torch.no_grad():\n",
    "    correct = 0\n",
    "    total = 0\n",
    "    for images, labels in test_dataloader:\n",
    "        # 이미지와 라벨을 CUDA 장치로 이동\n",
    "        images = images.to(device)\n",
    "        labels = labels.to(device)\n",
    "\n",
    "        # 모델에 이미지 전달하여 예측 수행\n",
    "        outputs = model(images)\n",
    "        _, predicted = torch.max(outputs.data, 1)  # 예측 수정\n",
    "\n",
    "        total += labels.size(0)\n",
    "        correct += (predicted == labels).sum().item()\n",
    "\n",
    "    accuracy = 100 * correct / total\n",
    "    print(f\"Test Accuracy: {accuracy}%\")\n",
    "\n",
    "    # 가장 좋은 정확도를 가진 모델 저장\n",
    "    if accuracy > best_accuracy:\n",
    "        best_accuracy = accuracy\n",
    "        torch.save(model.state_dict(), best_model_path)\n",
    "        print(\"Best model saved.\")"
   ]
  }
 ],
 "metadata": {
  "kernelspec": {
   "display_name": "venv",
   "language": "python",
   "name": "python3"
  },
  "language_info": {
   "codemirror_mode": {
    "name": "ipython",
    "version": 3
   },
   "file_extension": ".py",
   "mimetype": "text/x-python",
   "name": "python",
   "nbconvert_exporter": "python",
   "pygments_lexer": "ipython3",
   "version": "3.10.10"
  },
  "orig_nbformat": 4
 },
 "nbformat": 4,
 "nbformat_minor": 2
}
